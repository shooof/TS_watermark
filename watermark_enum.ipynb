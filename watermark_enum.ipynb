{
 "cells": [
  {
   "cell_type": "code",
   "execution_count": 1,
   "metadata": {},
   "outputs": [],
   "source": [
    "import yaml\n",
    "def genkgw(gamma,delta):\n",
    "    with open('./config/KGW.yaml', 'r') as file:\n",
    "        config = yaml.safe_load(file)\n",
    "    config['watermark']['gamma'] = gamma\n",
    "    config['watermark']['delta'] = delta\n",
    "    with open(f'./config_enum/KGW_{delta}_{gamma}', 'w') as file:\n",
    "        yaml.dump(config, file)\n",
    "for i in [0.1,0.2,0.25,0.3,0.4,0.5]:\n",
    "    for j in [0.5,1,2,5,10]:\n",
    "        genkgw(i,j)\n"
   ]
  },
  {
   "cell_type": "code",
   "execution_count": 2,
   "metadata": {},
   "outputs": [],
   "source": [
    "import os\n",
    "def gents(gamma,delta):\n",
    "    with open('./config/TS.yaml', 'r') as file:\n",
    "        config = yaml.safe_load(file)\n",
    "    config['watermark']['gamma'] = gamma\n",
    "    config['watermark']['delta'] = delta\n",
    "    \n",
    "for i in os.listdir('./ckpt/opt'):\n",
    "    with open('./config/TS.yaml', 'r') as file:\n",
    "        config = yaml.safe_load(file)\n",
    "    config['watermark']['ckpt_path'] = f'ckpt/opt/{i}'\n",
    "    with open(f'./config_enum/TS_{i}', 'w') as file:\n",
    "        yaml.dump(config, file)"
   ]
  },
  {
   "cell_type": "code",
   "execution_count": 3,
   "metadata": {},
   "outputs": [
    {
     "name": "stdout",
     "output_type": "stream",
     "text": [
      "./eval/text_TS_opt_TS_init_0.25_1.0.pth.json_pp\n",
      "Current huggingface cache dir: ./models\n"
     ]
    },
    {
     "name": "stderr",
     "output_type": "stream",
     "text": [
      "/teamspace/studios/this_studio/TS_watermark/models/modules/datasets_modules/datasets/c4/584d57ebe81c209b6c7f31727066d2c4b4bba37cb7092cdd83083d5ec11207db/c4.py:53: FutureWarning: Dataset 'c4' is deprecated and will be deleted. Use 'allenai/c4' instead.\n",
      "  warnings.warn(\n",
      "/teamspace/studios/this_studio/TS_watermark/utils/data_loader.py:88: UserWarning: To copy construct from a tensor, it is recommended to use sourceTensor.clone().detach() or sourceTensor.clone().detach().requires_grad_(True), rather than torch.tensor(sourceTensor).\n",
      "  input_ids_batch = [torch.tensor(item['input_ids'], dtype=torch.long).view(-1) for item in batch]\n"
     ]
    },
    {
     "name": "stdout",
     "output_type": "stream",
     "text": [
      "0\n"
     ]
    }
   ],
   "source": [
    "for i in os.listdir('./config_enum'):\n",
    "    model_short_name=i.split('_')[0]\n",
    "    if f\"./eval/text_{model_short_name}_opt_{i.split('/')[-1]}.json_pp\" not in os.listdir('./eval'):\n",
    "        print(f\"./eval/text_{model_short_name}_opt_{i.split('/')[-1]}.json_pp\")\n",
    "        os.system(f'python watermark.py --config ./config_enum/{i}')"
   ]
  }
 ],
 "metadata": {
  "kernelspec": {
   "display_name": "wm",
   "language": "python",
   "name": "python3"
  },
  "language_info": {
   "codemirror_mode": {
    "name": "ipython",
    "version": 3
   },
   "file_extension": ".py",
   "mimetype": "text/x-python",
   "name": "python",
   "nbconvert_exporter": "python",
   "pygments_lexer": "ipython3",
   "version": "3.9.21"
  }
 },
 "nbformat": 4,
 "nbformat_minor": 2
}
