{
 "cells": [
  {
   "cell_type": "code",
   "execution_count": 2,
   "metadata": {},
   "outputs": [],
   "source": [
    "import yaml\n",
    "def genkgw(gamma,delta):\n",
    "    with open('./config/KGW.yaml', 'r') as file:\n",
    "        config = yaml.safe_load(file)\n",
    "    config['watermark']['gamma'] = gamma\n",
    "    config['watermark']['delta'] = delta\n",
    "    with open(f'./config_enum/KGW_{delta}_{gamma}', 'w') as file:\n",
    "        yaml.dump(config, file)\n",
    "for i in [0.1,0.2,0.25,0.3,0.4,0.5]:\n",
    "    for j in [0.5,1,2,5,10]:\n",
    "        genkgw(i,j)\n"
   ]
  },
  {
   "cell_type": "code",
   "execution_count": 3,
   "metadata": {},
   "outputs": [],
   "source": [
    "import os\n",
    "def gents(gamma,delta):\n",
    "    with open('./config/TS.yaml', 'r') as file:\n",
    "        config = yaml.safe_load(file)\n",
    "    config['watermark']['gamma'] = gamma\n",
    "    config['watermark']['delta'] = delta\n",
    "    \n",
    "for i in os.listdir('./ckpt/opt'):\n",
    "    with open('./config/TS.yaml', 'r') as file:\n",
    "        config = yaml.safe_load(file)\n",
    "    config['watermark']['ckpt_path'] = f'ckpt/opt/{i}'\n",
    "    with open(f'./config_enum/TS_{i}', 'w') as file:\n",
    "        yaml.dump(config, file)"
   ]
  },
  {
   "cell_type": "code",
   "execution_count": null,
   "metadata": {},
   "outputs": [],
   "source": [
    "for i in os.listdir('./config_enum'):\n",
    "    os.system(f'python watermark.py --config ./config_enum/{i}')"
   ]
  }
 ],
 "metadata": {
  "kernelspec": {
   "display_name": "wm",
   "language": "python",
   "name": "python3"
  },
  "language_info": {
   "codemirror_mode": {
    "name": "ipython",
    "version": 3
   },
   "file_extension": ".py",
   "mimetype": "text/x-python",
   "name": "python",
   "nbconvert_exporter": "python",
   "pygments_lexer": "ipython3",
   "version": "3.9.21"
  }
 },
 "nbformat": 4,
 "nbformat_minor": 2
}
