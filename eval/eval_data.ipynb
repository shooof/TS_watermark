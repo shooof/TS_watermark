{
 "cells": [
  {
   "cell_type": "code",
   "execution_count": 58,
   "metadata": {},
   "outputs": [],
   "source": [
    "import json\n",
    "import pandas as pd\n",
    "import numpy as np\n",
    "# 假设你的JSON文件名为data.json\n",
    "with open('./text_TS_opt.json_pp', 'r', encoding='utf-8') as file:\n",
    "    t=file.readlines()"
   ]
  },
  {
   "cell_type": "code",
   "execution_count": 59,
   "metadata": {},
   "outputs": [
    {
     "data": {
      "text/plain": [
       "{'prefix': 'The Patently-O blog this week took a look at how the number of pending patent cases is changing. With the number of patent cases filed falling – Lex Machina this week noted a 33% drop in October compared to October 2013, for example – Patently-O dug into the pending cases to give another perspective on the state of patent litigation.\\nIts findings are consistent with the conclusion that the number of patent litigations is declining, although it noted that the number of pending cases is still well above that in October 2010.\\nThe Patently-O folks also had a look at how the USPTO is implementing Alice v CLS Bank in patent examination, in an article in the 2014 Patently-O Patent Law Journal. It ranked the top applicants with post-Alice allowance withdrawals. Unsurprisingly IBM, eBay and Microsoft were the top three assignees, named in 47, 19 and 15 applications respectively. Perhaps more surprisingly, gaming companies IGT and WMS Gaming are in the top 10. Also appearing are finance companies JP Morgan, American Express and Bank of America, which reflects the impact of Alice on financial services patents.\\nThe Supreme Court has declined to hear the appeal of a dispute over the copyright on Sherlock Holmes. On November 2 it left intact a ruling that 50 works by Sir Arthur Conan Doyle featuring the famous detective are in the public domain.\\nDoyle’s estate had been trying to get writer Leslie Klinger to pay a licence for using the Sherlock Holmes character in a compendium of new stories. A fee was paid for the first The New Annotated Sherlock Holmes but Klinger refused to pay a licence fee for the second installment.\\nIn June, the Seventh Circuit ruled that the copyright on 46 stories and four novels featuring Holmes were in the public domain. In August, Judge Richard Posner ordered Doyle’s estate to pay legal fees to Klinger and branded its demands “a form of extortion”.\\nThe past week threw up a bizarre copyright question: can you copyright a backside? As reported in a post on The IPKat blog, Kim Kardashian believes fitness model Jen Selter is copying her poses when posting pictures of her backside on Instagram. Kardashian has reportedly asked her lawyers to investigate whether there is a copyright infringement.\\nThe IPKat blog gave a detailed analysis of the issues involved, from an EU perspective at least. It quickly establishes that you cannot copyright a body part because it is neither a work nor the author’s own intellectual creation.The issue gets less clear when breast or bottom implants are involved, which could be seen as',\n",
       " 'gold_completion': ' an artistic work.\\nRegarding the question of whether there could be copyright in a pose, the IPKat blog said this is issue falls between unprotectable ideas and protectable expressions. “However, the pose of a subject may contribute to the overall originality of, say, a photograph [or, as Kim knows well, a selfie],” said the blog post.\\nLG Electronics and Google this week entered into a long-term patent cross-licensing agreement covering a broad range of products and technologies. The agreement covers the two companies’ existing patents as well as those filed over the next 10 years.\\nThis agreement builds on the long-standing alliance between Google and LG Electronics, the companies said.\\n“LG values its relationship with Google, and this agreement underscores both companies’ commitment to developing new products and technologies that enhance consumers’ lives,” said J.H. Lee, executive vice president and head of the LG Electronics Intellectual Property Center.',\n",
       " 'no_wm_completion': ' a work if the breast was invented independently of the tummy Tummy.\\nThe IPKat went on to suggest that Selter’s backside appears to be an imitation of Kardashian’s backside – a pose, then, that could be copyrighted, but this would require a very strong defence. But, after an analysis of the evidence, the IPKat suggests it is hard to see how the courts should rule in favour of Selter, given the strong case that Kardashian’s backside has been copied without permission.\\nOn Friday the IPKat reported on another case involving a backside, a case of a swim-suit photo of an American tennis player that was taken for a magazine’s Swimsuit Edition. It was posted, with permission by the player and with her prior approval to do so. However, the magazine posted the photo on its website, which the player refused to approve, since it did not match her image. The American tennis player sought a',\n",
       " 'gen_completion': \" a work of art and thus subject to copyright, or the opposite. Then the question becomes whether some kind of interpretation is permissible. The IPKat concludes that no such definition exists.\\nIPR Update\\nLast week's EU case, Trammel v Procter & Gamble, dealt with a type of copyright in a product patent issued in 1999. The problem for the EU is that the EU has no protection for patents issued in 1999 by national patent offices.\\nThe case involved a perfume and a toothpaste brand. The company had won a patent and the P&G company won a right to sell the same product inside of Europe and throughout the world. The company had also won a right for the US market to sell a new version of the toothpaste, that was sold around the world and had been re-branded to Procter & Gamble toothpaste. The P&G company argued that the EU rules protected the rights to sell within the EU with respect to the re-brand\",\n",
       " 'z_wm': 10.022417068481445,\n",
       " 'z_human': -4.199122428894043,\n",
       " 'simcse': 0.5009765625}"
      ]
     },
     "execution_count": 59,
     "metadata": {},
     "output_type": "execute_result"
    }
   ],
   "source": [
    "json.loads(t[0])"
   ]
  },
  {
   "cell_type": "code",
   "execution_count": 60,
   "metadata": {},
   "outputs": [],
   "source": [
    "results=[]\n",
    "for i in t:\n",
    "    data=json.loads(i)\n",
    "    results.append([data['z_wm'],data['z_human'],data['simcse']])"
   ]
  },
  {
   "cell_type": "code",
   "execution_count": 61,
   "metadata": {},
   "outputs": [],
   "source": [
    "full=pd.DataFrame(results,columns=['z_wm','z_human','simcse'])"
   ]
  },
  {
   "cell_type": "code",
   "execution_count": 62,
   "metadata": {},
   "outputs": [],
   "source": [
    "full.sort_values('z_human',inplace=True)"
   ]
  },
  {
   "cell_type": "code",
   "execution_count": 69,
   "metadata": {},
   "outputs": [
    {
     "data": {
      "text/plain": [
       "np.float64(0.7185830078125)"
      ]
     },
     "execution_count": 69,
     "metadata": {},
     "output_type": "execute_result"
    }
   ],
   "source": [
    "np.average(full['simcse'])"
   ]
  },
  {
   "cell_type": "code",
   "execution_count": 64,
   "metadata": {},
   "outputs": [
    {
     "data": {
      "text/plain": [
       "(np.float64(-3.8352036476135254), np.float64(-4.018921375274658))"
      ]
     },
     "execution_count": 64,
     "metadata": {},
     "output_type": "execute_result"
    }
   ],
   "source": [
    "fpr1=full.to_numpy()[-5,1]\n",
    "fpr0=full.to_numpy()[-1,1]\n",
    "fpr0,fpr1"
   ]
  },
  {
   "cell_type": "code",
   "execution_count": 68,
   "metadata": {},
   "outputs": [
    {
     "data": {
      "text/plain": [
       "0.9900990099009901"
      ]
     },
     "execution_count": 68,
     "metadata": {},
     "output_type": "execute_result"
    }
   ],
   "source": [
    "\n",
    "thres=fpr0\n",
    "tp = [row for row in results if row[0] > thres]\n",
    "tn = [row for row in results if row[0] <= thres]\n",
    "tpr=len(tp)/(len(tp)+5)\n",
    "tpr"
   ]
  },
  {
   "cell_type": "code",
   "execution_count": null,
   "metadata": {},
   "outputs": [],
   "source": []
  }
 ],
 "metadata": {
  "kernelspec": {
   "display_name": "wm",
   "language": "python",
   "name": "python3"
  },
  "language_info": {
   "codemirror_mode": {
    "name": "ipython",
    "version": 3
   },
   "file_extension": ".py",
   "mimetype": "text/x-python",
   "name": "python",
   "nbconvert_exporter": "python",
   "pygments_lexer": "ipython3",
   "version": "3.9.21"
  }
 },
 "nbformat": 4,
 "nbformat_minor": 2
}
